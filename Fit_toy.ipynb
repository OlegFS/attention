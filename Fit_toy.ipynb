{
 "cells": [
  {
   "cell_type": "code",
   "execution_count": 2,
   "metadata": {
    "collapsed": false
   },
   "outputs": [],
   "source": [
    "%matplotlib inline\n",
    "import numpy as np\n",
    "from attention import *\n",
    "#import pop\n",
    "#from models import CueAlone, Naive\n",
    "from common import *\n",
    "import scipy.stats as sps\n",
    "from IPython.display import Image\n",
    "import matplotlib.pyplot as plt"
   ]
  },
  {
   "cell_type": "code",
   "execution_count": null,
   "metadata": {
    "collapsed": false
   },
   "outputs": [],
   "source": []
  },
  {
   "cell_type": "code",
   "execution_count": null,
   "metadata": {
    "collapsed": false
   },
   "outputs": [],
   "source": []
  },
  {
   "cell_type": "code",
   "execution_count": null,
   "metadata": {
    "collapsed": false
   },
   "outputs": [],
   "source": [
    "# %load test_models.py\n",
    "#Probes for the test of model classes\n",
    "\n",
    "#CUE ALONE\n",
    "\n",
    "from models import CueAlone\n",
    "import numpy as np\n",
    "\n",
    "class SimData(object):\n",
    "    def __init__(self,nt,l):        \n",
    "        self.N_events = nt\n",
    "        self.N_units = 1\n",
    "        self.N_t = nt#number of trials\n",
    "        self.L = l# length of one trial\n",
    "        self.event_t_msec = np.linspace(0,l,l)\n",
    "        #Stimuli?\n",
    "        self.S__ts =np.random.random_integers(0,1,[nt,1])\n",
    "        \n",
    "        self.m_gain = 0.4\n",
    "        self.C = self.S__ts\n",
    "        \n",
    "        self.D = sps.norm.pdf(np.linspace(-2,2,l*nt), 0, 0.1)\n",
    "        self.D = np.reshape(self.D,[nt,l])\n",
    "        \n",
    "        self.M = np.cos(np.linspace(-2*np.pi,2*np.pi,nt))*1\n",
    "        self.M = np.reshape(self.M,[nt,1])\n",
    "        \n",
    "        self.a =self.m_gain* np.exp(self.C)#\n",
    "        self.Y__tn = np.random.poisson(self.a,[nt,l])\n",
    "        \n",
    "        self.is_trial_cue_L = np.random.random_integers(0,1,[1,self.N_t])\n",
    "        self.is_trial_cue_R =np.array(self.is_trial_cue_L!=1,dtype =float)\n",
    "        \n",
    "    def __copy__( self ):\n",
    "        \"\"\" Return a copy of self. \"\"\"\n",
    "        #t = self.__class__( self.prefix, empty_copy=True )\n",
    "        t.__dict__ = self.__dict__.copy()\n",
    "        return t\n",
    "    \n",
    "    \n",
    "# Simulation\n",
    "v = SimData(1000,2)\n",
    "m = CueAlone(v,verbose= True)\n",
    "m.C__sn"
   ]
  },
  {
   "cell_type": "code",
   "execution_count": null,
   "metadata": {
    "collapsed": false,
    "scrolled": true
   },
   "outputs": [],
   "source": [
    "m.plot_cache_graph(filename = 'plotit.png')\n",
    "#Image(\"plotit.png\")\n",
    "m.C__sn.T.flatten()\n"
   ]
  },
  {
   "cell_type": "code",
   "execution_count": 9,
   "metadata": {
    "collapsed": false
   },
   "outputs": [],
   "source": [
    "# Solve for the cue without model interfaces\n",
    "\n",
    "#Generate data\n",
    "l =1000 #length of one trial (time)\n",
    "t = 1000 #trials\n",
    "n = 2 #n of neurons\n",
    "# Cue_R  - which side is the monkey cued to attend \n",
    "# (0 - ipsilateral, 1-contralateral(corresponding to the hemishare))\n",
    "\n",
    "X__ti = np.zeros([t,2]) # similar to S__ts in Neil's code\n",
    "X__ti[:,0] = np.random.random_integers(0,1,[1,t])\n",
    "X__ti[:,1] = np.float32(X__ti[:,0]!=1)\n",
    "\n",
    "# two simulated modulators \n",
    "wave = (np.cos(np.linspace(-3,3,t)*20))+2 \n",
    "wave2 = (np.cos(np.linspace(-3,3,t)*1)*10)+20\n",
    "\n",
    "#cue weights\n",
    "x1 = X__ti[:,1]\n",
    "w1 = np.array([1,1])\n",
    "C1 = x1[:,np.newaxis].dot(w1[:,np.newaxis].T)\n",
    "x2 = X__ti[:,1]\n",
    "w2 = np.array([0.5,0])\n",
    "C2 = x2[:,np.newaxis].dot(w2[:,np.newaxis].T)\n",
    "\n",
    "#slow modulator \n",
    "d = np.array([0.05,0.01])\n",
    "D = wave2[:,np.newaxis].dot(d[:,np.newaxis].T)\n",
    "\n",
    "#fast modulator weights\n",
    "\n",
    "v = np.array([0.5,0.5])\n",
    "M = wave[:,np.newaxis].dot(v[:,np.newaxis].T)\n",
    "\n",
    "\n",
    "#firing rate \n",
    "fr = np.array([0.1,0.1])\n",
    "\n",
    "#Simulated signal\n",
    "#Y__tn = np.random.poisson(fr*(np.exp(C1+C2+D+M)),[t,u])\n",
    "Y__tn = np.random.poisson(fr*(np.exp(C1+C2)),[t,n])\n",
    "\n",
    "\n",
    "#objective\n",
    "#objectvie =\n",
    "#jacobian = \n",
    "#hessian = \n",
    "#initial values\n",
    "Y__tn = Y__tn.T\n",
    "# guess for the cue weigths\n",
    "Nu__sn = ( Y__tn.dot(X__ti) / X__ti.sum(axis=0)[None, :] ).T    \n",
    "Nu__sn[ Nu__sn < 0.01 ] = 0.01\n",
    "#nonlineariy - exp\n",
    "C__sn = log( Nu__sn ) \n"
   ]
  },
  {
   "cell_type": "code",
   "execution_count": 10,
   "metadata": {
    "collapsed": false
   },
   "outputs": [
    {
     "data": {
      "text/plain": [
       "(2, 1000)"
      ]
     },
     "execution_count": 10,
     "metadata": {},
     "output_type": "execute_result"
    }
   ],
   "source": [
    "np.shape(X__ti)\n",
    "np.shape(Y__tn)"
   ]
  },
  {
   "cell_type": "code",
   "execution_count": 11,
   "metadata": {
    "collapsed": false
   },
   "outputs": [],
   "source": [
    "# %load models.py\n",
    "from helpers import *\n",
    "import helpers\n",
    "\n",
    "np.seterr(all='ignore')\n",
    "\n",
    "class CueFit( AutoCR ):\n",
    "\n",
    "    S = 2\n",
    "\n",
    "    def __init__( self, X,Y, eps_per_obs=1e-5, max_newton_steps=10, nonlinearity='exp',\n",
    "            solve=True, verbose=True ):\n",
    "        self.Y__tn = Y\n",
    "        self.eps_per_obs = eps_per_obs\n",
    "        self.max_newton_steps = max_newton_steps\n",
    "\n",
    "        self.T = np.shape(Y)[0]\n",
    "        self.N = np.shape(Y)[1]\n",
    "        # parse nonlinearity\n",
    "        self.nonlinearity = nonlinearity\n",
    "        if nonlinearity not in ['soft', 'exp']:\n",
    "            self._raise_nonlinearity_error( nonlinearity )\n",
    "        self.X = X\n",
    "        # initialise and solve\n",
    "        self.initialise( X,Y )\n",
    "        if solve:\n",
    "            self.solve( verbose=verbose )\n",
    "            \n",
    "    def _raise_nonlinearity_error( self ):\n",
    "        err_str = \"`nonlinearity` is '%s'; must be 'soft' or 'exp'\"\n",
    "        raise ValueError(err_str % self.nonlinearity)\n",
    "\n",
    "    @cached\n",
    "    def eps( eps_per_obs, T, N ):\n",
    "        return eps_per_obs * T * N\n",
    "\n",
    "    def initialise( self,X,Y ):\n",
    "        # extract \n",
    "        Y__tn = self.Y__tn\n",
    "        T, N = np.shape(Y)\n",
    "        # which trial is which \n",
    "        S__ts = X\n",
    "        # inital guess for stimulus-driven component\n",
    "        Nu__sn = ( Y__tn.T.dot(S__ts) / S__ts.sum(axis=0)[None, :] ).T\n",
    "        Nu__sn[ Nu__sn < 0.01 ] = 0.01\n",
    "        # save\n",
    "        if self.nonlinearity == 'exp':\n",
    "            self.C__sn = log( Nu__sn )\n",
    "        elif self.nonlinearity == 'soft':\n",
    "            tracer()\n",
    "        self.S__ts = S__ts\n",
    "\n",
    "    \"\"\" For a single neuron \"\"\"\n",
    "\n",
    "    @cached\n",
    "    def a__s( z_vec, S ):\n",
    "        return z_vec[-S:]\n",
    "\n",
    "    @cached\n",
    "    def y__t( Y__tn, n ):\n",
    "        #Single neuron \n",
    "        return Y__tn[ :, n ]\n",
    "\n",
    "    @cached\n",
    "    def nu__t( S__ts, a__s ):\n",
    "        #\n",
    "        return exp( S__ts.dot(a__s) )\n",
    "\n",
    "    @cached\n",
    "    def mu__t( nu__t ):\n",
    "        return nu__t \n",
    "\n",
    "    @cached\n",
    "    def log_mu__t( mu__t ):\n",
    "        return log( mu__t )\n",
    "\n",
    "    @cached\n",
    "    def r__t( y__t, mu__t ):\n",
    "        r__t = y__t - mu__t\n",
    "        r__t[ ~np.isfinite(r__t) ] = 0\n",
    "        return r__t\n",
    "\n",
    "    \"\"\" Objective for neuron n: h(nu) \"\"\"\n",
    "\n",
    "    @cached\n",
    "    def h( mu__t, y__t, log_mu__t ):\n",
    "        return np.nansum( mu__t - y__t * log_mu__t )\n",
    "\n",
    "    \"\"\" Jacobian: h'(z, nu) \"\"\"\n",
    "\n",
    "    @cached\n",
    "    def dh( r__t, S__ts ):\n",
    "        # partials\n",
    "        da = -r__t.dot( S__ts )\n",
    "        # put together\n",
    "        return da\n",
    "\n",
    "    @cached\n",
    "    def d2h( mu__t, S__ts ):\n",
    "        # partials\n",
    "        da2 = diag( mu__t.dot( S__ts ) )\n",
    "        return da2\n",
    "\n",
    "    def solve( self, verbose=True ):\n",
    "        # construct objective\n",
    "        objective = self.cfunction( np.array_equal, 'h', 'z_vec' )\n",
    "        jacobian = self.cfunction( np.array_equal, 'dh', 'z_vec' )\n",
    "        hessian = self.cfunction( np.array_equal, 'd2h', 'z_vec' )\n",
    "        # starting values\n",
    "        last_C__sn = self.C__sn\n",
    "        C__sn = last_C__sn.copy()\n",
    "        # run through each cell\n",
    "        N= self.N\n",
    "        S = self.S\n",
    "        for n in progress.dots( range(N), 'solving for Z', verbose=verbose ):\n",
    "            self.n = n\n",
    "            self.z_vec = C__sn[:, n]\n",
    "            z_vec = fmin_ncg( objective, self.z_vec, jacobian, fhess=hessian,\n",
    "                        disp=True, avextol=1e-3 )\n",
    "            C__sn[ :, n ] = z_vec[-S:]\n",
    "        # save\n",
    "        self.C__sn = C__sn\n",
    "\n",
    "    \"\"\" Calculations: overall \"\"\"\n",
    "\n",
    "    @cached\n",
    "    def Mu__tn( C__sn, S__ts ):\n",
    "        return np.exp( S__ts.dot(C__sn) )\n",
    "\n",
    "    @cached\n",
    "    def log_Mu__tn( Mu__tn ):\n",
    "        return log( Mu__tn )\n",
    "    \n",
    "    @cached\n",
    "    def LL_per_obs( Mu__tn, log_Mu__tn, Y__tn ):\n",
    "        return np.nansum( -Mu__tn + Y__tn * log_Mu__tn )"
   ]
  },
  {
   "cell_type": "code",
   "execution_count": 12,
   "metadata": {
    "collapsed": false
   },
   "outputs": [
    {
     "name": "stdout",
     "output_type": "stream",
     "text": [
      "solving for ZOptimization terminated successfully.\n",
      "         Current function value: 586.036552\n",
      "         Iterations: 1\n",
      "         Function evaluations: 2\n",
      "         Gradient evaluations: 2\n",
      "         Hessian evaluations: 1\n",
      ".Optimization terminated successfully.\n",
      "         Current function value: 475.047689\n",
      "         Iterations: 1\n",
      "         Function evaluations: 2\n",
      "         Gradient evaluations: 2\n",
      "         Hessian evaluations: 1\n",
      "o[0s]\n"
     ]
    }
   ],
   "source": [
    "#Y__tn_training = Y__tn[:,0:9000]\n",
    "#Y__tn_test = Y__tn[:,9000:]\n",
    "#X__ti_training = X__ti[0:9000]\n",
    "#X__ti_test = X__ti[9000:]\n",
    "modelCue  = CueFit(X__ti,Y__tn.T)"
   ]
  },
  {
   "cell_type": "code",
   "execution_count": 13,
   "metadata": {
    "collapsed": false
   },
   "outputs": [
    {
     "name": "stdout",
     "output_type": "stream",
     "text": [
      "     a__s      : (2,) array\n",
      "     d2h       : (2, 2) array\n",
      "     dh        : (2,) array\n",
      "     h         : 475.047688883\n",
      "     log_mu__t : (1000,) array\n",
      "     mu__t     : (1000,) array\n",
      "     nu__t     : (1000,) array\n",
      "     r__t      : (1000,) array\n",
      "     y__t      : (1000,) array\n",
      "(2, 1000)\n",
      "[[-2.18707221 -2.45673577]\n",
      " [-0.80946071 -1.24397814]]\n"
     ]
    },
    {
     "ename": "NameError",
     "evalue": "name 'X__ti_test' is not defined",
     "output_type": "error",
     "traceback": [
      "\u001b[0;31m-------------------------------------------------------------\u001b[0m",
      "\u001b[0;31mNameError\u001b[0m                   Traceback (most recent call last)",
      "\u001b[0;32m<ipython-input-13-b0463be75c4f>\u001b[0m in \u001b[0;36m<module>\u001b[0;34m()\u001b[0m\n\u001b[1;32m      7\u001b[0m \u001b[0;31m#C__sn = np.array([w1, w2])\u001b[0m\u001b[0;34m\u001b[0m\u001b[0;34m\u001b[0m\u001b[0m\n\u001b[1;32m      8\u001b[0m \u001b[0;31m# Compute Predictive LL like Neil specified it\u001b[0m\u001b[0;34m\u001b[0m\u001b[0;34m\u001b[0m\u001b[0m\n\u001b[0;32m----> 9\u001b[0;31m \u001b[0mMu__tn\u001b[0m \u001b[0;34m=\u001b[0m \u001b[0mnp\u001b[0m\u001b[0;34m.\u001b[0m\u001b[0mexp\u001b[0m\u001b[0;34m(\u001b[0m \u001b[0mX__ti_test\u001b[0m\u001b[0;34m.\u001b[0m\u001b[0mdot\u001b[0m\u001b[0;34m(\u001b[0m\u001b[0mC__sn\u001b[0m\u001b[0;34m)\u001b[0m \u001b[0;34m)\u001b[0m\u001b[0;34m\u001b[0m\u001b[0m\n\u001b[0m\u001b[1;32m     10\u001b[0m \u001b[0mlog_Mu__tn\u001b[0m \u001b[0;34m=\u001b[0m \u001b[0mlog\u001b[0m\u001b[0;34m(\u001b[0m \u001b[0mMu__tn\u001b[0m \u001b[0;34m)\u001b[0m\u001b[0;34m\u001b[0m\u001b[0m\n\u001b[1;32m     11\u001b[0m \u001b[0mpLL\u001b[0m \u001b[0;34m=\u001b[0m \u001b[0mnp\u001b[0m\u001b[0;34m.\u001b[0m\u001b[0mnansum\u001b[0m\u001b[0;34m(\u001b[0m \u001b[0;34m-\u001b[0m\u001b[0mMu__tn\u001b[0m \u001b[0;34m+\u001b[0m\u001b[0mY__tn_test\u001b[0m\u001b[0;34m.\u001b[0m\u001b[0mT\u001b[0m \u001b[0;34m*\u001b[0m \u001b[0mlog_Mu__tn\u001b[0m \u001b[0;34m)\u001b[0m\u001b[0;34m\u001b[0m\u001b[0m\n",
      "\u001b[0;31mNameError\u001b[0m: name 'X__ti_test' is not defined"
     ]
    }
   ],
   "source": [
    "modelCue._cache_summary\n",
    "modelCue.C__sn\n",
    "print(np.shape(Y__tn))\n",
    "print(modelCue.C__sn)\n",
    "C__sn = modelCue.C__sn\n",
    "\n",
    "#C__sn = np.array([w1, w2])\n",
    "# Compute Predictive LL like Neil specified it\n",
    "Mu__tn = np.exp( X__ti_test.dot(C__sn) )\n",
    "log_Mu__tn = log( Mu__tn ) \n",
    "pLL = np.nansum( -Mu__tn +Y__tn_test.T * log_Mu__tn ) \n",
    "print('PredictiveLL'),\n",
    "print(pLL)\n",
    "print('Cue wieghts'),\n",
    "print(C__sn)\n",
    "print(modelCue.LL_per_obs)"
   ]
  },
  {
   "cell_type": "code",
   "execution_count": null,
   "metadata": {
    "collapsed": false
   },
   "outputs": [],
   "source": [
    "y  = np.exp(X__ti_test.dot(C__sn))"
   ]
  },
  {
   "cell_type": "code",
   "execution_count": null,
   "metadata": {
    "collapsed": false
   },
   "outputs": [],
   "source": []
  },
  {
   "cell_type": "code",
   "execution_count": 14,
   "metadata": {
    "collapsed": false
   },
   "outputs": [
    {
     "data": {
      "text/plain": [
       "[<matplotlib.lines.Line2D at 0x11104a2d0>]"
      ]
     },
     "execution_count": 14,
     "metadata": {},
     "output_type": "execute_result"
    },
    {
     "data": {
      "image/png": "[encoded data removed]",
      "text/plain": [
       "<matplotlib.figure.Figure at 0x11104a810>"
      ]
     },
     "metadata": {},
     "output_type": "display_data"
    }
   ],
   "source": [
    "plt.plot(Y__tn[0,0:100])\n",
    "plt.plot(X__ti[0:100,0]-1.5)\n",
    "#plt.plot(C1)"
   ]
  },
  {
   "cell_type": "code",
   "execution_count": null,
   "metadata": {
    "collapsed": false
   },
   "outputs": [],
   "source": []
  },
  {
   "cell_type": "code",
   "execution_count": 15,
   "metadata": {
    "collapsed": false
   },
   "outputs": [
    {
     "name": "stdout",
     "output_type": "stream",
     "text": [
      "[solve]: (0/12) initial estimate of s, w\n",
      "[solve]: (2/12) initial re-estimate of s, w\n",
      "[solve]: (3/12) estimating theta_s, s\n",
      "[solve]: (4/12) estimating theta_w, w\n",
      "[solve]: (5/12) estimating theta_s, s\n",
      "[solve]: (6/12) estimating theta_w, w\n",
      "[solve]: (7/12) estimating s & w jointly\n",
      "[solve]: (8/12) estimating theta_k, k\n",
      "[solve]: (11/12) estimating s & w jointly\n"
     ]
    }
   ],
   "source": [
    "from helpers import *\n",
    "%matplotlib inline\n",
    "import numpy as np\n",
    "from attention import *\n",
    "#import pop\n",
    "#from models import CueAlone, Naive\n",
    "from common import *\n",
    "import scipy.stats as sps\n",
    "from IPython.display import Image\n",
    "import matplotlib.pyplot as plt\n",
    "import attention\n",
    "reload(attention)\n",
    "from attention import *\n",
    "import pop\n",
    "reload(pop)\n",
    "reload(mop)\n",
    "from A2_fit_CG import PopData, PopSolver\n",
    "\n",
    "\n",
    "#t_ms = d2.event_t_msec\n",
    "#min_dt = float( np.diff( t_ms ).min() )\n",
    "#t_idx = np.floor( (t_ms - t_ms.min()) / min_dt ).astype(int)\n",
    "\n",
    "# regression: initial conditions\n",
    "#K__i = m.C__sn.T.flatten()\n",
    "K__i = C__sn\n",
    "#K__i[ ~np.isfinite(K__i) ] = -3\n",
    "# initial weights\n",
    "w__n = np.ones( [n])#w__n = np.ones( d.N_units )\n",
    "# remove any dodgy cells\n",
    "# construct model data\n",
    "#model_data = PopData( X__ti, Y__tn )\n",
    "model_data = PopData( X__ti,Y__tn.T)#np.random.poisson(1,[100,1]), np.random.poisson(1,[100,2]))\n",
    "# build model\n",
    "initial_conditions = { 'k': K__i, 'theta_s':[-7, 10], 's':np.zeros(100), 'w':w__n }\n",
    "model = PopSolver( model_data, initial_conditions=initial_conditions, rank=1 )\n",
    "model._grid_search_theta_s_parameters['bounds'] = [[-9, -4], [-40, 20]]\n",
    "model._bounds_s = [(-9, -4), (-60, 40)]\n",
    "\n",
    "model.calc_posterior_k()\n",
    "\n",
    "#        \n",
    "model.solve( verbose=1 )\n",
    "#extract the global drift signal\n",
    "SG__tn = model.posterior_sw.H__sw[ model.training_idxs, : ]\n",
    "w__n = np.abs( svd( SG__tn - SG__tn.mean(axis=0)[na, :], full_matrices=False )[2][0, :].T )\n",
    "N_sig = (w__n > (w__n.max() / 10)).sum()"
   ]
  },
  {
   "cell_type": "code",
   "execution_count": null,
   "metadata": {
    "collapsed": false
   },
   "outputs": [],
   "source": [
    "# params:\n",
    "# k \n",
    "# s \n",
    "# w - supposed to be wieghts "
   ]
  },
  {
   "cell_type": "code",
   "execution_count": 26,
   "metadata": {
    "collapsed": false
   },
   "outputs": [
    {
     "data": {
      "text/plain": [
       "(1000, 2)"
      ]
     },
     "execution_count": 26,
     "metadata": {},
     "output_type": "execute_result"
    }
   ],
   "source": [
    "np.shape(SG__tn)"
   ]
  },
  {
   "cell_type": "code",
   "execution_count": null,
   "metadata": {
    "collapsed": false
   },
   "outputs": [],
   "source": [
    "model.__dict__.keys()"
   ]
  },
  {
   "cell_type": "code",
   "execution_count": null,
   "metadata": {
    "collapsed": false
   },
   "outputs": [],
   "source": [
    "model._cache_summary"
   ]
  },
  {
   "cell_type": "code",
   "execution_count": null,
   "metadata": {
    "collapsed": false
   },
   "outputs": [],
   "source": [
    "plt.plot( model.abs_freqs_s  )\n",
    "#plt.plot( model.H__sw )"
   ]
  },
  {
   "cell_type": "code",
   "execution_count": 27,
   "metadata": {
    "collapsed": false
   },
   "outputs": [
    {
     "data": {
      "text/plain": [
       "[<matplotlib.lines.Line2D at 0x11558ea90>,\n",
       " <matplotlib.lines.Line2D at 0x11559b7d0>]"
      ]
     },
     "execution_count": 27,
     "metadata": {},
     "output_type": "execute_result"
    },
    {
     "data": {
      "image/png": "[encoded data removed]",
      "text/plain": [
       "<matplotlib.figure.Figure at 0x1154f5310>"
      ]
     },
     "metadata": {},
     "output_type": "display_data"
    }
   ],
   "source": [
    "#plt.plot(X__ti.T[1:1000])\n",
    "plt.figure(0)\n",
    "plt.plot(Y__tn.T[1:t,0])\n",
    "plt.plot(wave2.T[:]*0.1)\n",
    "plt.plot(SG__tn[1:t,:]*10)\n",
    "\n",
    "#plt.figure(1)\n",
    "\n",
    "#plt.plot(Y__tn.T[0:t,1])\n",
    "#plt.plot(wave.T[0:n:n/t])\n",
    "#plt.plot(X__ti[0:t,0]-1)\n",
    "#plt.plot(X__ti[0:t,1]-2)"
   ]
  },
  {
   "cell_type": "code",
   "execution_count": null,
   "metadata": {
    "collapsed": false
   },
   "outputs": [],
   "source": [
    "np.shape(x)"
   ]
  },
  {
   "cell_type": "code",
   "execution_count": 29,
   "metadata": {
    "collapsed": false
   },
   "outputs": [
    {
     "ename": "TypeError",
     "evalue": "super(type, obj): obj must be an instance or subtype of type",
     "output_type": "error",
     "traceback": [
      "\u001b[0;31m-------------------------------------------------------------\u001b[0m",
      "\u001b[0;31mTypeError\u001b[0m                   Traceback (most recent call last)",
      "\u001b[0;32m<ipython-input-29-0a13e120c826>\u001b[0m in \u001b[0;36m<module>\u001b[0;34m()\u001b[0m\n\u001b[1;32m     20\u001b[0m \u001b[0mx\u001b[0m\u001b[0;34m[\u001b[0m\u001b[0;34m:\u001b[0m\u001b[0;34m,\u001b[0m\u001b[0;36m2\u001b[0m\u001b[0;34m]\u001b[0m \u001b[0;34m=\u001b[0m \u001b[0mSG__tn\u001b[0m\u001b[0;34m[\u001b[0m\u001b[0;34m:\u001b[0m\u001b[0;34m,\u001b[0m\u001b[0munit\u001b[0m\u001b[0;34m]\u001b[0m\u001b[0;34m\u001b[0m\u001b[0m\n\u001b[1;32m     21\u001b[0m \u001b[0;34m\u001b[0m\u001b[0m\n\u001b[0;32m---> 22\u001b[0;31m \u001b[0mmd\u001b[0m \u001b[0;34m=\u001b[0m \u001b[0mMopData\u001b[0m\u001b[0;34m(\u001b[0m\u001b[0mx\u001b[0m\u001b[0;34m,\u001b[0m \u001b[0mY__tn\u001b[0m\u001b[0;34m[\u001b[0m\u001b[0munit\u001b[0m\u001b[0;34m,\u001b[0m\u001b[0;34m:\u001b[0m\u001b[0;34m]\u001b[0m\u001b[0;34m.\u001b[0m\u001b[0mT\u001b[0m\u001b[0;34m)\u001b[0m\u001b[0;34m\u001b[0m\u001b[0m\n\u001b[0m\u001b[1;32m     23\u001b[0m \u001b[0;34m\u001b[0m\u001b[0m\n\u001b[1;32m     24\u001b[0m \u001b[0;31m#k0 =np.array([0.1])#K__i = np.array([[0.01],[-0.01],[1]])#np.random.normal(0,1,[1])#np.array([0.01])\u001b[0m\u001b[0;34m\u001b[0m\u001b[0;34m\u001b[0m\u001b[0m\n",
      "\u001b[0;32m/Users/olegvinogradov/Documents/MasterThesis/attention/attention.pyc\u001b[0m in \u001b[0;36m__init__\u001b[0;34m(self, X, y)\u001b[0m\n\u001b[1;32m   1365\u001b[0m \u001b[0;34m\u001b[0m\u001b[0m\n\u001b[1;32m   1366\u001b[0m     \u001b[0;32mdef\u001b[0m \u001b[0m__init__\u001b[0m\u001b[0;34m(\u001b[0m \u001b[0mself\u001b[0m\u001b[0;34m,\u001b[0m \u001b[0mX\u001b[0m\u001b[0;34m,\u001b[0m \u001b[0my\u001b[0m \u001b[0;34m)\u001b[0m\u001b[0;34m:\u001b[0m\u001b[0;34m\u001b[0m\u001b[0m\n\u001b[0;32m-> 1367\u001b[0;31m         \u001b[0msuper\u001b[0m\u001b[0;34m(\u001b[0m \u001b[0mMopData\u001b[0m\u001b[0;34m,\u001b[0m \u001b[0mself\u001b[0m \u001b[0;34m)\u001b[0m\u001b[0;34m.\u001b[0m\u001b[0m__init__\u001b[0m\u001b[0;34m(\u001b[0m \u001b[0mX\u001b[0m\u001b[0;34m,\u001b[0m \u001b[0my\u001b[0m\u001b[0;34m,\u001b[0m \u001b[0madd_constant\u001b[0m\u001b[0;34m=\u001b[0m\u001b[0mFalse\u001b[0m \u001b[0;34m)\u001b[0m\u001b[0;34m\u001b[0m\u001b[0m\n\u001b[0m\u001b[1;32m   1368\u001b[0m \u001b[0;34m\u001b[0m\u001b[0m\n\u001b[1;32m   1369\u001b[0m     \u001b[0;34m@\u001b[0m\u001b[0mproperty\u001b[0m\u001b[0;34m\u001b[0m\u001b[0m\n",
      "\u001b[0;31mTypeError\u001b[0m: super(type, obj): obj must be an instance or subtype of type"
     ]
    }
   ],
   "source": [
    "reload(mop)\n",
    "# group together responses to a single trial\n",
    "# assemble spike counts\n",
    "#n =1000\n",
    "#u = 1\n",
    "#X__ti = np.random.random_integers(0,1,[100,1])\n",
    "#wave = (np.cos(np.linspace(-3,3,100)*10))+1\n",
    "#wave2 = (np.cos(np.linspace(-3,3,100)*2)*4)+10\n",
    "#y__t = np.random.poisson(wave2*wave,[100])\n",
    " \n",
    "#x[1]=-0.99\n",
    "#Xind = X__ti==1\n",
    "#np.shape(Xind)\n",
    "#x = np.reshape(x,[1000,1])\n",
    "#x[Xind.T]  =1\n",
    "unit = 0\n",
    "x = np.zeros([t,3])\n",
    "x[:,0] =X__ti[:,0]\n",
    "x[:,1] =X__ti[:,1]\n",
    "x[:,2] = SG__tn[:,unit]\n",
    "\n",
    "md = MopData(x, Y__tn[unit,:].T)\n",
    "\n",
    "#k0 =np.array([0.1])#K__i = np.array([[0.01],[-0.01],[1]])#np.random.normal(0,1,[1])#np.array([0.01])\n",
    "k0 =np.array([0.1])\n",
    "k0 = conc([ k0, [0.1] ]) \n",
    "k0 = conc([ k0, [1] ]) \n",
    "\n",
    "# construct solver\n",
    "ms = MopSolver( md, initial_conditions={'k':k0, 'theta_h':[-7, 100]} )\n",
    "ms.solve(verbose = 0)\n",
    "\n",
    "# MAP estimates\n",
    "theta_h = ms.posterior_h.theta_h\n",
    "k = ms.posterior_k.k_vec\n",
    "SL__n = ms.posterior_h.expected_log_g[ ms.training_idxs ]\n",
    "#log_FXk = ms.posterior_k.expected_log_FXk[ ms.training_idxs ]\n",
    "\n",
    "# reconstruct how to put back in to original dataset\n",
    "#SL__trial = SL__n.copy()\n",
    "#SL__event = SL__n[ np.unique( d.trial_idxs, return_inverse=True )[1] ]\n",
    "\n",
    "# final data structure\n",
    "#results = {\n",
    "#        'SL__trial':SL__trial, 'SL__event':SL__event, \n",
    "#        'k':k, 'theta_h':theta_h, 'ms':ms, 'md':md}\n"
   ]
  },
  {
   "cell_type": "code",
   "execution_count": 31,
   "metadata": {
    "collapsed": false
   },
   "outputs": [
    {
     "ename": "TypeError",
     "evalue": "super(type, obj): obj must be an instance or subtype of type",
     "output_type": "error",
     "traceback": [
      "\u001b[0;31m-------------------------------------------------------------\u001b[0m",
      "\u001b[0;31mTypeError\u001b[0m                   Traceback (most recent call last)",
      "\u001b[0;32m<ipython-input-31-47a53fb23de6>\u001b[0m in \u001b[0;36m<module>\u001b[0;34m()\u001b[0m\n\u001b[0;32m----> 1\u001b[0;31m \u001b[0mMopData\u001b[0m\u001b[0;34m(\u001b[0m\u001b[0mx\u001b[0m\u001b[0;34m,\u001b[0m\u001b[0mY__tn\u001b[0m\u001b[0;34m)\u001b[0m\u001b[0;34m\u001b[0m\u001b[0m\n\u001b[0m",
      "\u001b[0;32m/Users/olegvinogradov/Documents/MasterThesis/attention/attention.pyc\u001b[0m in \u001b[0;36m__init__\u001b[0;34m(self, X, y)\u001b[0m\n\u001b[1;32m   1365\u001b[0m \u001b[0;34m\u001b[0m\u001b[0m\n\u001b[1;32m   1366\u001b[0m     \u001b[0;32mdef\u001b[0m \u001b[0m__init__\u001b[0m\u001b[0;34m(\u001b[0m \u001b[0mself\u001b[0m\u001b[0;34m,\u001b[0m \u001b[0mX\u001b[0m\u001b[0;34m,\u001b[0m \u001b[0my\u001b[0m \u001b[0;34m)\u001b[0m\u001b[0;34m:\u001b[0m\u001b[0;34m\u001b[0m\u001b[0m\n\u001b[0;32m-> 1367\u001b[0;31m         \u001b[0msuper\u001b[0m\u001b[0;34m(\u001b[0m \u001b[0mMopData\u001b[0m\u001b[0;34m,\u001b[0m \u001b[0mself\u001b[0m \u001b[0;34m)\u001b[0m\u001b[0;34m.\u001b[0m\u001b[0m__init__\u001b[0m\u001b[0;34m(\u001b[0m \u001b[0mX\u001b[0m\u001b[0;34m,\u001b[0m \u001b[0my\u001b[0m\u001b[0;34m,\u001b[0m \u001b[0madd_constant\u001b[0m\u001b[0;34m=\u001b[0m\u001b[0mFalse\u001b[0m \u001b[0;34m)\u001b[0m\u001b[0;34m\u001b[0m\u001b[0m\n\u001b[0m\u001b[1;32m   1368\u001b[0m \u001b[0;34m\u001b[0m\u001b[0m\n\u001b[1;32m   1369\u001b[0m     \u001b[0;34m@\u001b[0m\u001b[0mproperty\u001b[0m\u001b[0;34m\u001b[0m\u001b[0m\n",
      "\u001b[0;31mTypeError\u001b[0m: super(type, obj): obj must be an instance or subtype of type"
     ]
    }
   ],
   "source": [
    "MopData(x,Y__tn)"
   ]
  },
  {
   "cell_type": "code",
   "execution_count": null,
   "metadata": {
    "collapsed": false
   },
   "outputs": [],
   "source": [
    "k0 =np.array([0.1])\n",
    "k = conc([ k0, [1] ]) \n",
    "print(k)"
   ]
  },
  {
   "cell_type": "code",
   "execution_count": null,
   "metadata": {
    "collapsed": false
   },
   "outputs": [],
   "source": [
    "x =SG__tn[:,1] \n",
    "x[1]=-0.99\n",
    "Xind = X__ti==1\n",
    "np.shape(Xind)\n",
    "x = np.reshape(x,[1000,1])\n",
    "x[Xind.T]  =1\n",
    "print(np.shape(x))"
   ]
  },
  {
   "cell_type": "code",
   "execution_count": null,
   "metadata": {
    "collapsed": false
   },
   "outputs": [],
   "source": [
    "print(np.shape(Y__tn[0,:].T))\n",
    "print(np.shape(x))"
   ]
  },
  {
   "cell_type": "code",
   "execution_count": null,
   "metadata": {
    "collapsed": false
   },
   "outputs": [],
   "source": []
  },
  {
   "cell_type": "code",
   "execution_count": null,
   "metadata": {
    "collapsed": false
   },
   "outputs": [],
   "source": [
    "plt.plot(x)\n",
    "#plt.plot(X__ti.T)"
   ]
  },
  {
   "cell_type": "code",
   "execution_count": null,
   "metadata": {
    "collapsed": false
   },
   "outputs": [],
   "source": [
    "\n",
    "#plt.plot(wave2[1:1000])\n",
    "#plt.plot(wave[1:1000]-4)\n",
    "#plt.plot(x[1:1000]-4)\n",
    "#plt.plot(Y__tn[1,1:1000].T)\n",
    "#plt.plot(SG__tn[:,0])\n",
    "\n",
    "\n",
    "#plt.plot(X__ti.T[1:1000])\n",
    "plt.figure(0)\n",
    "plt.plot(Y__tn.T[1:t,0])\n",
    "plt.plot(wave.T[1:n:n/t])\n",
    "plt.plot(SG__tn[1:t,0])\n",
    "plt.plot(SL__n)\n",
    "#plt.figure(1)\n",
    "\n",
    "#plt.plot(Y__tn.T[0:t,1])\n",
    "#plt.plot(wave.T[0:n:t])\n",
    "#plt.plot(X__ti[0:t,0]-1)\n",
    "#plt.plot(X__ti[0:t,1]-2)"
   ]
  },
  {
   "cell_type": "code",
   "execution_count": null,
   "metadata": {
    "collapsed": false
   },
   "outputs": [],
   "source": [
    "SL__n"
   ]
  },
  {
   "cell_type": "code",
   "execution_count": null,
   "metadata": {
    "collapsed": false,
    "scrolled": true
   },
   "outputs": [],
   "source": [
    "ms.plot_cache_graph(filename = 'plotit.png')\n",
    "Image(\"plotit.png\")"
   ]
  },
  {
   "cell_type": "code",
   "execution_count": null,
   "metadata": {
    "collapsed": true
   },
   "outputs": [],
   "source": []
  },
  {
   "cell_type": "code",
   "execution_count": null,
   "metadata": {
    "collapsed": false
   },
   "outputs": [],
   "source": [
    "# %load A3_fit_CGL.py\n",
    "from attention import * \n",
    "\n",
    "#### load event data\n",
    "if not locals().has_key('event_data'):\n",
    "    event_data = cPickle.load(open('data/event_data.pickle'))\n",
    "\n",
    "for a in ['CG', 'C']:\n",
    "    event_data.load_attribute(a)\n",
    "\n",
    "\n",
    "\n",
    "#### script\n",
    "\n",
    "if include_SG:\n",
    "    d.SG__tn = d.CG.SG__tn\n",
    "# group together responses to a single trial\n",
    "d2 = d.group_by_trial\n",
    "# assemble spike counts\n",
    "y__t = d2.mean_counts_per_event[unit_idx, :]\n",
    "md = MopData( X__ti, y__t )\n",
    "\n",
    "k0 =np.array([0.01,0.1,0.43])\n",
    "if include_SG:\n",
    "    k0 = conc([ k0, [1] ])\n",
    "# construct solver\n",
    "ms = MopSolver( md, initial_conditions={'k':k0, 'theta_h':[-7, 10]} )\n",
    "ms.solve(verbose = 0)\n",
    "\n",
    "# MAP estimates\n",
    "theta_h = ms.posterior_h.theta_h\n",
    "k = ms.posterior_k.k_vec\n",
    "SL__n = ms.posterior_h.expected_log_g[ ms.training_idxs ]\n",
    "#log_FXk = ms.posterior_k.expected_log_FXk[ ms.training_idxs ]\n",
    "\n",
    "# reconstruct how to put back in to original dataset\n",
    "SL__trial = SL__n.copy()\n",
    "SL__event = SL__n[ np.unique( d.trial_idxs, return_inverse=True )[1] ]\n",
    "\n",
    "# final data structure\n",
    "results = {\n",
    "        'SL__trial':SL__trial, 'SL__event':SL__event, \n",
    "        'k':k, 'theta_h':theta_h, 'ms':ms, 'md':md}\n",
    "\n",
    "\n",
    "\n",
    "def fit_CGL( d_idx, check=False ):\n",
    "    # check\n",
    "    d = event_data[ d_idx ]\n",
    "    attr = 'CGL'\n",
    "    if check:\n",
    "        return d.can_load_attribute( attr )\n",
    "    if d.can_load_attribute( attr ):\n",
    "        print '[already done]'\n",
    "        return None\n",
    "    # fit models individually\n",
    "    results = []\n",
    "    for i in progress.dots( range(d.N_units), 'fitting SL' ):\n",
    "        r = fit_SL_to_unit( d, i )\n",
    "        results.append(r)\n",
    "        # has it been done already\n",
    "        if d.can_load_attribute( attr ):\n",
    "            print '[already done]'\n",
    "            return None\n",
    "    # save\n",
    "    CGL = Bunch( d.CG.copy() )\n",
    "    CGL['C__sn'] = A([ r['k'][:2] for r in results ]).T\n",
    "    CGL['SG__tn'] = CGL['SG__tn'] * A([ r['k'][-1] for r in results ])[None, :]\n",
    "    CGL['SL__tn'] = A([ r['SL__event'] for r in results ]).T\n",
    "    CGL['theta_h__ni'] = A([ r['theta_h'] for r in results ])\n",
    "    CGL = BaseModel( CGL )\n",
    "    setattr( d, attr, CGL )\n",
    "    d.save_attribute( attr, overwrite=None )\n",
    "\n",
    "def fit_CL( d_idx, check=False ):\n",
    "    # check\n",
    "    d = event_data[ d_idx ]\n",
    "    attr = 'CL'\n",
    "    if check:\n",
    "        return d.can_load_attribute( attr )\n",
    "    if d.can_load_attribute( attr ):\n",
    "        print '[already done]'\n",
    "        return None\n",
    "    # fit models individually\n",
    "    results = []\n",
    "    for i in progress.dots( range(d.N_units), 'fitting SL' ):\n",
    "        r = fit_SL_to_unit( d, i, include_SG=False )\n",
    "        results.append(r)\n",
    "        # has it been done already\n",
    "        if d.can_load_attribute( attr ):\n",
    "            print '[already done]'\n",
    "            return None\n",
    "    # save\n",
    "    CL = Bunch( d.C.copy() )\n",
    "    CL['C__sn'] = A([ r['k'] for r in results ]).T\n",
    "    CL['SL__tn'] = A([ r['SL__event'] for r in results ]).T\n",
    "    CL['theta_h__ni'] = A([ r['theta_h'] for r in results ])\n",
    "    CL = BaseModel( CL )\n",
    "    setattr( d, attr, CL )\n",
    "    d.save_attribute( attr, overwrite=None )\n",
    "\n",
    "\n"
   ]
  },
  {
   "cell_type": "code",
   "execution_count": null,
   "metadata": {
    "collapsed": false
   },
   "outputs": [],
   "source": [
    "model.W_star"
   ]
  },
  {
   "cell_type": "code",
   "execution_count": null,
   "metadata": {
    "collapsed": false
   },
   "outputs": [],
   "source": [
    "plt.plot(SG__tn)\n",
    "#plt.plot(wave)"
   ]
  },
  {
   "cell_type": "code",
   "execution_count": null,
   "metadata": {
    "collapsed": false
   },
   "outputs": [],
   "source": [
    "np.shape(SG__tn)"
   ]
  },
  {
   "cell_type": "code",
   "execution_count": null,
   "metadata": {
    "collapsed": false
   },
   "outputs": [],
   "source": [
    "\n",
    "print(shape(model.Y_training))\n",
    "print(shape(model.training_idxs))\n",
    "plt.plot(model.posterior_sw.H__sw)"
   ]
  },
  {
   "cell_type": "code",
   "execution_count": null,
   "metadata": {
    "collapsed": false,
    "scrolled": true
   },
   "outputs": [],
   "source": []
  },
  {
   "cell_type": "code",
   "execution_count": null,
   "metadata": {
    "collapsed": false
   },
   "outputs": [],
   "source": [
    "model.plot_cache_graph(filename = 'plotit.png')\n",
    "#Image(\"plotit.png\")\n",
    "SG__tn = model.posterior_sw.H__sw[ model.training_idxs, : ]\n",
    "w__n = np.abs( svd( SG__tn - SG__tn.mean(axis=0)[na, :], full_matrices=False )[2][0, :].T )\n",
    "N_sig = (w__n > (w__n.max() / 10)).sum()"
   ]
  },
  {
   "cell_type": "code",
   "execution_count": null,
   "metadata": {
    "collapsed": false
   },
   "outputs": [],
   "source": [
    "model.plot_cache_graph(filename = 'plotit.png')\n",
    "Image(\"plotit.png\")"
   ]
  }
 ],
 "metadata": {
  "anaconda-cloud": {},
  "kernelspec": {
   "display_name": "Python 2",
   "language": "python",
   "name": "python2"
  }
 },
 "nbformat": 4,
 "nbformat_minor": 0
}
