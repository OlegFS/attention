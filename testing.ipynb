{
 "cells": [
  {
   "cell_type": "code",
   "execution_count": null,
   "metadata": {
    "collapsed": false
   },
   "outputs": [],
   "source": []
  },
  {
   "cell_type": "code",
   "execution_count": 2,
   "metadata": {
    "collapsed": false
   },
   "outputs": [],
   "source": [
    "%matplotlib inline\n",
    "import numpy as np\n",
    "from attention import *\n",
    "#import pop\n",
    "#from models import CueAlone, Naive\n",
    "from common import *\n",
    "import scipy.stats as sps\n",
    "from IPython.display import Image\n",
    "import matplotlib.pyplot as plt"
   ]
  },
  {
   "cell_type": "code",
   "execution_count": null,
   "metadata": {
    "collapsed": false
   },
   "outputs": [],
   "source": [
    "-"
   ]
  },
  {
   "cell_type": "code",
   "execution_count": null,
   "metadata": {
    "collapsed": false
   },
   "outputs": [],
   "source": [
    "m.plot_cache_graph(filename = 'plotit.png')\n",
    "Image(\"plotit.png\")\n",
    "# Cahed absent – pink #ffeeee\n",
    "#Cached prsent – red #ff9999\n",
    "#Ordinary absent – light blue #eeeeff\n",
    "#Ordinary present - Purple #9999ff \n",
    "# Method – light green #aaccaa\n",
    "\n",
    "#C__sn "
   ]
  },
  {
   "cell_type": "code",
   "execution_count": null,
   "metadata": {
    "collapsed": false
   },
   "outputs": [],
   "source": [
    "# %load A2_fit_CG.py\n",
    "# modules\n",
    "from helpers import *\n",
    "import attention\n",
    "reload(attention)\n",
    "from attention import *\n",
    "import pop\n",
    "\n",
    "\n",
    "# core data\n",
    "#if not locals().has_key('event_data'):\n",
    "#    event_data = cPickle.load(open('data/event_data.pickle'))\n",
    "\n",
    "#event_data.load_attribute('C')\n",
    "\n",
    "\"\"\"\n",
    "=======\n",
    "classes\n",
    "=======\n",
    "\"\"\"\n",
    "\n",
    "class PopData( pop.PopData ):                                                                            \n",
    "    \n",
    "    def __init__( self, X, Y ):\n",
    "        super( PopData, self ).__init__( X, Y, add_constant=False )\n",
    "\n",
    "        \n",
    "class PopSolver( pop.Factorial_k, pop.Lowpass_s, pop.ML_w, pop.PopSimple ):\n",
    "    \n",
    "    _k_solver_class = MopSolver\n",
    "\n",
    "    @property\n",
    "    def _max_len_h_star( self ):\n",
    "        return min([ 1000, self.data.T ])\n",
    "    \n",
    "    @cached\n",
    "    def training_idxs( data ):\n",
    "        return np.isfinite( data.Y ).all( axis=1 )\n",
    "    \n",
    "    @cached\n",
    "    def has_testing_regions():\n",
    "        return False\n",
    "    \n",
    "    @cached\n",
    "    def T_training( training_idxs ):\n",
    "        return training_idxs.sum()\n",
    "    \n",
    "    @cached\n",
    "    def T_testing():\n",
    "        return 0\n",
    "    \n",
    "    def _slice_by_testing( self, sig ):\n",
    "        return A([])\n",
    "    \n",
    "    def _slice_by_training( self, sig ):\n",
    "        return sig[ self.training_idxs, ... ]\n",
    "    \n",
    "    def _zero_during_testing( self, sig ):\n",
    "        sig = sig.copy()\n",
    "        sig[ ~self.training_idxs, ... ] = 0\n",
    "        return sig\n",
    "\n",
    "\n",
    "\"\"\"\n",
    "==========\n",
    "how to fit\n",
    "==========\n",
    "\"\"\"\n",
    "\n",
    "def fit_CG( d, check=False ):\n",
    "    \"\"\" Fit S_global__tn on top of C__sn \"\"\"\n",
    "    # get cell\n",
    "    d = d#event_data[ d_idx ]\n",
    "    # is it done\n",
    "    attr = 'CG'\n",
    "    if check:\n",
    "        return d.can_load_attribute( attr )\n",
    "    if d.can_load_attribute( attr ):\n",
    "        print '- already done'\n",
    "        return\n",
    "    # group together responses to a single trial\n",
    "    d2 = d.group_by_trial\n",
    "    # trial times\n",
    "    t_ms = d2.event_t_msec\n",
    "    min_dt = float( np.diff( t_ms ).min() )\n",
    "    t_idx = np.floor( (t_ms - t_ms.min()) / min_dt ).astype(int)\n",
    "    # how long is the signal\n",
    "    T0 = T = t_idx.max() + 1\n",
    "    T2 = int( pow(2, np.ceil(np.log2(T/2.))) ) * 2\n",
    "    T3 = int( pow(2, np.ceil(np.log2(T/3.))) ) * 3\n",
    "    T5 = int( pow(2, np.ceil(np.log2(T/5.))) ) * 5\n",
    "    T = min(T2, T3, T5)\n",
    "    # assemble spike counts\n",
    "    Y__tn = d2.mean_counts_per_event.T\n",
    "    # padded spike counts\n",
    "    Y_padded__tn = np.zeros((T, d.N_units)) * np.nan\n",
    "    Y_padded__tn[ t_idx, : ] = Y__tn\n",
    "    Y__tn = Y_padded__tn\n",
    "    # stimulus matrix\n",
    "    X__ti = np.zeros((T, 2))\n",
    "    X__ti[ t_idx[ d2.is_trial_cue_L ], 0 ] = 1\n",
    "    X__ti[ t_idx[ d2.is_trial_cue_R ], 1 ] = 1\n",
    "    # regression: initial conditions\n",
    "    K__i = d.C.C__sn.T.flatten()\n",
    "    K__i[ ~np.isfinite(K__i) ] = -3\n",
    "    # initial weights\n",
    "    w__n = np.ones( d.N_units )\n",
    "    # remove any dodgy cells\n",
    "    tok__n = (d.Y__tn.mean(axis=0) > 0.01)\n",
    "    if ~tok__n.all():\n",
    "        Y__tn = Y__tn[ :, tok__n ]\n",
    "        w__n = w__n[ tok__n ]\n",
    "        K__i = d.C.C__sn[ :, tok__n ].T.flatten()\n",
    "        K__i[ ~np.isfinite(K__i) ] = -3\n",
    "    # construct model data\n",
    "    model_data = PopData( X__ti, Y__tn )\n",
    "    # build model\n",
    "    initial_conditions = { 'k': K__i, 'theta_s':[-7, 10], 's':np.zeros(T), 'w':w__n }\n",
    "    model = PopSolver( model_data, initial_conditions=initial_conditions, rank=1 )\n",
    "    model._grid_search_theta_s_parameters['bounds'] = [[-9, -4], [-40, 20]]\n",
    "    model._bounds_s = [(-9, -4), (-60, 40)]\n",
    "    # re-estimate cue conditions\n",
    "    model.calc_posterior_k()\n",
    "    for ks in model.k_solvers:\n",
    "        if np.abs(np.diff(ks.k_vec))[0] > 1:\n",
    "            ks.k_vec = np.max(ks.k_vec) * A([1, 1])\n",
    "            ks.calc_posterior_k()\n",
    "    model.calc_posterior_k()\n",
    "    # solve for slow drift\n",
    "    model.solve( verbose=2 )\n",
    "    clear_output()\n",
    "    # extract slow global signal\n",
    "    SG__tn = model.posterior_sw.H__sw[ model.training_idxs, : ]\n",
    "    # make the right shape\n",
    "    trials, idxs, inv_idxs = np.unique( d.trial_idxs, return_inverse=True, return_index=True )\n",
    "    SG__tn = SG__tn[ inv_idxs, : ]\n",
    "    # check that it is not degenerate\n",
    "    w__n = np.abs( svd( SG__tn - SG__tn.mean(axis=0)[na, :], full_matrices=False )[2][0, :].T )\n",
    "    N_sig = (w__n > (w__n.max() / 10)).sum()\n",
    "    if N_sig < 5:\n",
    "        SG__tn *= 0\n",
    "        print '**** DEGENERATE ****'\n",
    "        tracer()\n",
    "    if ~tok__n.all():\n",
    "        S = SG__tn\n",
    "        SG__tn = np.zeros( (S.shape[0], len(tok__n)) )\n",
    "        SG__tn[ :, tok__n ] = S\n",
    "    # done\n",
    "    if d.can_load_attribute( attr ):\n",
    "        print '- already done'\n",
    "        return\n",
    "    # save\n",
    "    d.CG = Bunch(d.C.copy())\n",
    "    d.CG['SG__tn'] = SG__tn\n",
    "    d.CG = BaseModel( d.CG )\n",
    "    d.save_attribute(attr)\n",
    "\n",
    "\n"
   ]
  },
  {
   "cell_type": "code",
   "execution_count": null,
   "metadata": {
    "collapsed": false
   },
   "outputs": [],
   "source": [
    "fit_CG( m, check=False )"
   ]
  },
  {
   "cell_type": "code",
   "execution_count": null,
   "metadata": {
    "collapsed": false
   },
   "outputs": [],
   "source": [
    "m.group_by_trial"
   ]
  },
  {
   "cell_type": "code",
   "execution_count": null,
   "metadata": {
    "collapsed": true
   },
   "outputs": [],
   "source": [
    "x = np.random.random_integers(1,2,[10,10])\n",
    "y = np.mean(x,axis=1)\n",
    "K = MopData(x,y)"
   ]
  },
  {
   "cell_type": "code",
   "execution_count": null,
   "metadata": {
    "collapsed": true
   },
   "outputs": [],
   "source": [
    "dd = {'jj':123,'kk':123}"
   ]
  },
  {
   "cell_type": "code",
   "execution_count": null,
   "metadata": {
    "collapsed": false
   },
   "outputs": [],
   "source": []
  },
  {
   "cell_type": "code",
   "execution_count": 131,
   "metadata": {
    "collapsed": false
   },
   "outputs": [],
   "source": [
    "class matimp(AutoCR):\n",
    "    def __init__( self, copydict=None ):\n",
    "        self.l = 1000\n",
    "        self.N = 2\n",
    "    @property \n",
    "    # instruction trials 10 first trails\n",
    "    def instruct(self):\n",
    "        return np.zeros([N,l])\n",
    "\n",
    "    @property \n",
    "    #?\n",
    "    def valid(self):\n",
    "        return np.ones([N,l])\n",
    "    \n",
    "    @property \n",
    "    #?\n",
    "    def catchtrial(self):\n",
    "        return np.zeros([N,l])\n",
    "    \n",
    "    @property \n",
    "    def attendloc(self):\n",
    "        return np.random.random_integers(0,1,[N,l])\n",
    "    \n",
    "    @property \n",
    "    def correctloc(self):\n",
    "        return np.random.random_integers(0,1,[N,l])\n",
    "    \n",
    "    @property \n",
    "    #orientation change\n",
    "    def ochange(self):\n",
    "        return np.ones([N,l])\n",
    "        \n",
    "    \n",
    "    @property \n",
    "    def eotcode(self):\n",
    "        return np.zeros([l,N])\n",
    "    \n",
    "    @property \n",
    "    #numof stim before the change occur\n",
    "    def numstim(self):\n",
    "        return np.random.random_integers(10,100,[N,l])\n",
    "    \n",
    "    @property\n",
    "    #when does trail start (overall,I guess)\n",
    "    def trialstart(self):\n",
    "        return np.array([100,200,500])#np.random.random_integers(1,1000,self.numstim)\n",
    "    \n",
    "    @property\n",
    "    #\n",
    "    def stimon(self):\n",
    "        return self.trialstart+10\n",
    "    \n",
    "class TT(AutoCR):\n",
    "    #A class to mimic trial information from Cohen and Maunsell\n",
    "    def __init__( self, copydict=None ):\n",
    "        self.l = 1000\n",
    "        \n",
    "    @property\n",
    "    #\n",
    "    def fixon(self):\n",
    "        return np.array([10])\n",
    "    @property\n",
    "    #\n",
    "    def fixate(self):\n",
    "        return np.array([100])\n",
    "    @property\n",
    "    #in relative ms? \n",
    "    # on is usually for 200ms and off for 200-400ms \n",
    "    def stimon(self):\n",
    "        return np.array([150])\n",
    "    @property\n",
    "    def stimoff(self):\n",
    "        return np.array([300])\n",
    "    @property\n",
    "    # between 1000ms to 5000ms()\n",
    "    def targon(self):\n",
    "        return np.array([350])\n",
    "    @property\n",
    "    # in ms? mean RT is 260 ms(from targ on) has to be between 100–500ms\n",
    "    def saccade(self):\n",
    "        return np.array([400])\n",
    "    @property\n",
    "    def sutimes(self):\n",
    "        return np.linspace(1,500,500)\n",
    "    \n",
    "class times(AutoCR):\n",
    "    @property\n",
    "    #\n",
    "    def spike_counts(self):\n",
    "        return np.random.poisson(1,[N,l])\n",
    "    @property\n",
    "    #\n",
    "    def event_types(self):\n",
    "        return ['standard','standard','standard']#np.random.poisson(1,[N,l])\n",
    "    \n",
    "    @property\n",
    "    #\n",
    "    def event_bounds(self):\n",
    "        return np.array([1000,2000,3000])\n",
    "    @property\n",
    "    def N_events(self):\n",
    "        return np.array([3])\n",
    " \n",
    "    "
   ]
  },
  {
   "cell_type": "code",
   "execution_count": 93,
   "metadata": {
    "collapsed": false
   },
   "outputs": [],
   "source": []
  },
  {
   "cell_type": "code",
   "execution_count": null,
   "metadata": {
    "collapsed": false
   },
   "outputs": [],
   "source": [
    "ti.trialstart"
   ]
  },
  {
   "cell_type": "code",
   "execution_count": null,
   "metadata": {
    "collapsed": false
   },
   "outputs": [],
   "source": [
    "np.random.random_integers(1,1000,3)"
   ]
  },
  {
   "cell_type": "code",
   "execution_count": 55,
   "metadata": {
    "collapsed": false
   },
   "outputs": [
    {
     "name": "stdout",
     "output_type": "stream",
     "text": [
      "(0, <__main__.TT object at 0x115253450>)\n",
      "(1, <__main__.TT object at 0x115253450>)\n",
      "(2, <__main__.TT object at 0x115253450>)\n"
     ]
    }
   ],
   "source": [
    "\n",
    "t = times = {'suarrayid':1,'sulist': np.linspace(1,l,l),'trialtimes':[tt,tt,tt] }\n",
    "for i, tt in enumerate(times['trialtimes']):\n",
    "        print(i,tt)\n",
    "    "
   ]
  },
  {
   "cell_type": "code",
   "execution_count": 57,
   "metadata": {
    "collapsed": false
   },
   "outputs": [
    {
     "ename": "AttributeError",
     "evalue": "'dict' object has no attribute 'spike_counts'",
     "output_type": "error",
     "traceback": [
      "\u001b[0;31m---------------------------------------------------------------------------\u001b[0m",
      "\u001b[0;31mAttributeError\u001b[0m                            Traceback (most recent call last)",
      "\u001b[0;32m<ipython-input-57-ff54ec21013b>\u001b[0m in \u001b[0;36m<module>\u001b[0;34m()\u001b[0m\n\u001b[0;32m----> 1\u001b[0;31m \u001b[0mt\u001b[0m\u001b[0;34m.\u001b[0m\u001b[0mspike_counts\u001b[0m\u001b[0;34m\u001b[0m\u001b[0m\n\u001b[0m",
      "\u001b[0;31mAttributeError\u001b[0m: 'dict' object has no attribute 'spike_counts'"
     ]
    }
   ],
   "source": [
    "t.spike_counts"
   ]
  },
  {
   "cell_type": "code",
   "execution_count": null,
   "metadata": {
    "collapsed": false,
    "scrolled": true
   },
   "outputs": [],
   "source": [
    "is_trial_cue_R = ti.attendloc.astype(bool)\n",
    "trial_block_idx = np.cumsum(\n",
    "                is_trial_cue_R[0][1:] != \n",
    "                is_trial_cue_R[0][:-1] )\n",
    "\n",
    "trial_block_idx = conc([ [0], trial_block_idx ])\n",
    "trial_block_idx = trial_block_idx\n",
    "\n",
    "# trial within the block\n",
    "trial_idx_within_block = conc([\n",
    "    np.arange(np.sum(trial_block_idx == i)) \n",
    "    for i in range(np.max(trial_block_idx) + 1) ])\n",
    "    "
   ]
  },
  {
   "cell_type": "code",
   "execution_count": null,
   "metadata": {
    "collapsed": false
   },
   "outputs": [],
   "source": [
    "ti.trialstart[i],\n",
    "self.is_trial_instruction[0][i],\n",
    "self.is_trial_valid[0][i]\n",
    "self.is_trial_catch[0][i]\n",
    "self.is_trial_cue_R[0][i]\n",
    "self.is_trial_target_R[0][i]\n",
    "self.trial_end_code[0][i]\n",
    "self.trial_block_idx[i]\n",
    "self.trial_idx_within_block[i]\n",
    "self.trial_N_stimuli_presented[i]\n",
    "self.target_orientation_change[0][i] "
   ]
  },
  {
   "cell_type": "code",
   "execution_count": 132,
   "metadata": {
    "collapsed": false
   },
   "outputs": [
    {
     "data": {
      "text/plain": [
       "<module 'RawData' from 'RawData.pyc'>"
      ]
     },
     "execution_count": 132,
     "metadata": {},
     "output_type": "execute_result"
    }
   ],
   "source": [
    "from RawData import *\n",
    "reload(RawData)"
   ]
  },
  {
   "cell_type": "code",
   "execution_count": 133,
   "metadata": {
    "collapsed": false,
    "scrolled": true
   },
   "outputs": [],
   "source": [
    "\n",
    "l = 1000\n",
    "ti = matimp()\n",
    "tt = TT()\n",
    "t = times()\n",
    "a = RawDataSim(l,N,TT,ti,t,keep_raw=False, copydict=None )\n"
   ]
  },
  {
   "cell_type": "code",
   "execution_count": null,
   "metadata": {
    "collapsed": false
   },
   "outputs": [],
   "source": []
  },
  {
   "cell_type": "code",
   "execution_count": null,
   "metadata": {
    "collapsed": false
   },
   "outputs": [
    {
     "name": "stdout",
     "output_type": "stream",
     "text": [
      "> \u001b[0;32m/Users/olegvinogradov/Documents/MasterThesis/attention/RawData.py\u001b[0m(310)\u001b[0;36mall_event_data\u001b[0;34m()\u001b[0m\n",
      "\u001b[0;32m    308 \u001b[0;31m        \u001b[0;31m# event details\u001b[0m\u001b[0;34m\u001b[0m\u001b[0;34m\u001b[0m\u001b[0m\n",
      "\u001b[0m\u001b[0;32m    309 \u001b[0;31m        \u001b[0;32mfrom\u001b[0m \u001b[0mIPython\u001b[0m\u001b[0;34m.\u001b[0m\u001b[0mcore\u001b[0m\u001b[0;34m.\u001b[0m\u001b[0mdebugger\u001b[0m \u001b[0;32mimport\u001b[0m \u001b[0mTracer\u001b[0m\u001b[0;34m;\u001b[0m \u001b[0mTracer\u001b[0m\u001b[0;34m(\u001b[0m\u001b[0;34m)\u001b[0m\u001b[0;34m(\u001b[0m\u001b[0;34m)\u001b[0m\u001b[0;34m\u001b[0m\u001b[0m\n",
      "\u001b[0m\u001b[0;32m--> 310 \u001b[0;31m        \u001b[0me\u001b[0m\u001b[0;34m.\u001b[0m\u001b[0mspike_counts\u001b[0m \u001b[0;34m=\u001b[0m \u001b[0mnp\u001b[0m\u001b[0;34m.\u001b[0m\u001b[0mhstack\u001b[0m\u001b[0;34m(\u001b[0m\u001b[0;34m[\u001b[0m \u001b[0mt\u001b[0m\u001b[0;34m.\u001b[0m\u001b[0mspike_counts\u001b[0m \u001b[0;32mfor\u001b[0m \u001b[0mt\u001b[0m \u001b[0;32min\u001b[0m \u001b[0mself\u001b[0m \u001b[0;34m]\u001b[0m\u001b[0;34m)\u001b[0m\u001b[0;34m\u001b[0m\u001b[0m\n",
      "\u001b[0m\u001b[0;32m    311 \u001b[0;31m        \u001b[0me\u001b[0m\u001b[0;34m.\u001b[0m\u001b[0mevent_types\u001b[0m \u001b[0;34m=\u001b[0m \u001b[0mnp\u001b[0m\u001b[0;34m.\u001b[0m\u001b[0mhstack\u001b[0m\u001b[0;34m(\u001b[0m\u001b[0;34m[\u001b[0m \u001b[0mt\u001b[0m\u001b[0;34m.\u001b[0m\u001b[0mevent_types\u001b[0m \u001b[0;32mfor\u001b[0m \u001b[0mt\u001b[0m \u001b[0;32min\u001b[0m \u001b[0mself\u001b[0m \u001b[0;34m]\u001b[0m\u001b[0;34m)\u001b[0m\u001b[0;34m\u001b[0m\u001b[0m\n",
      "\u001b[0m\u001b[0;32m    312 \u001b[0;31m        \u001b[0me\u001b[0m\u001b[0;34m.\u001b[0m\u001b[0mevent_t_msec\u001b[0m \u001b[0;34m=\u001b[0m \u001b[0mnp\u001b[0m\u001b[0;34m.\u001b[0m\u001b[0mhstack\u001b[0m\u001b[0;34m(\u001b[0m \u001b[0mself\u001b[0m\u001b[0;34m.\u001b[0m\u001b[0mt_msec_absolute_stimulus_on\u001b[0m \u001b[0;34m)\u001b[0m\u001b[0;34m\u001b[0m\u001b[0m\n",
      "\u001b[0m\n",
      "ipdb> np.hstack([ t.event_types for t in self ])\n",
      "*** TypeError: unhashable type: 'numpy.ndarray'\n",
      "ipdb> np.hstack( self.t_msec_absolute_stimulus_on )\n",
      "array([110, 210, 510])\n",
      "ipdb> np.hstack([ t.event_types for t in self ])\n",
      "*** TypeError: unhashable type: 'numpy.ndarray'\n",
      "ipdb>  e.event_types\n",
      "*** IndentationError: unexpected indent (<stdin>, line 1)\n",
      "ipdb> e.event_types\n",
      "*** AttributeError: 'EventData' object has no attribute 'event_types'\n",
      "ipdb>  t.event_types for t in self \n",
      "*** SyntaxError: invalid syntax (<stdin>, line 1)\n",
      "ipdb> ls\n",
      "*** NameError: name 'ls' is not defined\n",
      "ipdb> whos\n",
      "*** NameError: name 'whos' is not defined\n",
      "ipdb> list\n",
      "\u001b[1;32m    305 \u001b[0m    \u001b[0;34m@\u001b[0m\u001b[0mproperty\u001b[0m\u001b[0;34m\u001b[0m\u001b[0m\n",
      "\u001b[1;32m    306 \u001b[0m    \u001b[0;32mdef\u001b[0m \u001b[0mall_event_data\u001b[0m\u001b[0;34m(\u001b[0m \u001b[0mself\u001b[0m \u001b[0;34m)\u001b[0m\u001b[0;34m:\u001b[0m\u001b[0;34m\u001b[0m\u001b[0m\n",
      "\u001b[1;32m    307 \u001b[0m        \u001b[0me\u001b[0m \u001b[0;34m=\u001b[0m \u001b[0mEventData\u001b[0m\u001b[0;34m(\u001b[0m \u001b[0mself\u001b[0m\u001b[0;34m.\u001b[0m\u001b[0mprefix\u001b[0m \u001b[0;34m)\u001b[0m\u001b[0;34m\u001b[0m\u001b[0m\n",
      "\u001b[1;32m    308 \u001b[0m        \u001b[0;31m# event details\u001b[0m\u001b[0;34m\u001b[0m\u001b[0;34m\u001b[0m\u001b[0m\n",
      "\u001b[1;32m    309 \u001b[0m        \u001b[0;32mfrom\u001b[0m \u001b[0mIPython\u001b[0m\u001b[0;34m.\u001b[0m\u001b[0mcore\u001b[0m\u001b[0;34m.\u001b[0m\u001b[0mdebugger\u001b[0m \u001b[0;32mimport\u001b[0m \u001b[0mTracer\u001b[0m\u001b[0;34m;\u001b[0m \u001b[0mTracer\u001b[0m\u001b[0;34m(\u001b[0m\u001b[0;34m)\u001b[0m\u001b[0;34m(\u001b[0m\u001b[0;34m)\u001b[0m\u001b[0;34m\u001b[0m\u001b[0m\n",
      "\u001b[0;32m--> 310 \u001b[0;31m        \u001b[0me\u001b[0m\u001b[0;34m.\u001b[0m\u001b[0mspike_counts\u001b[0m \u001b[0;34m=\u001b[0m \u001b[0mnp\u001b[0m\u001b[0;34m.\u001b[0m\u001b[0mhstack\u001b[0m\u001b[0;34m(\u001b[0m\u001b[0;34m[\u001b[0m \u001b[0mt\u001b[0m\u001b[0;34m.\u001b[0m\u001b[0mspike_counts\u001b[0m \u001b[0;32mfor\u001b[0m \u001b[0mt\u001b[0m \u001b[0;32min\u001b[0m \u001b[0mself\u001b[0m \u001b[0;34m]\u001b[0m\u001b[0;34m)\u001b[0m\u001b[0;34m\u001b[0m\u001b[0m\n",
      "\u001b[0m\u001b[1;32m    311 \u001b[0m        \u001b[0me\u001b[0m\u001b[0;34m.\u001b[0m\u001b[0mevent_types\u001b[0m \u001b[0;34m=\u001b[0m \u001b[0mnp\u001b[0m\u001b[0;34m.\u001b[0m\u001b[0mhstack\u001b[0m\u001b[0;34m(\u001b[0m\u001b[0;34m[\u001b[0m \u001b[0mt\u001b[0m\u001b[0;34m.\u001b[0m\u001b[0mevent_types\u001b[0m \u001b[0;32mfor\u001b[0m \u001b[0mt\u001b[0m \u001b[0;32min\u001b[0m \u001b[0mself\u001b[0m \u001b[0;34m]\u001b[0m\u001b[0;34m)\u001b[0m\u001b[0;34m\u001b[0m\u001b[0m\n",
      "\u001b[1;32m    312 \u001b[0m        \u001b[0me\u001b[0m\u001b[0;34m.\u001b[0m\u001b[0mevent_t_msec\u001b[0m \u001b[0;34m=\u001b[0m \u001b[0mnp\u001b[0m\u001b[0;34m.\u001b[0m\u001b[0mhstack\u001b[0m\u001b[0;34m(\u001b[0m \u001b[0mself\u001b[0m\u001b[0;34m.\u001b[0m\u001b[0mt_msec_absolute_stimulus_on\u001b[0m \u001b[0;34m)\u001b[0m\u001b[0;34m\u001b[0m\u001b[0m\n",
      "\u001b[1;32m    313 \u001b[0m        e.event_durations = A( np.sum([[eb[1] - eb[0] for eb in t.event_bounds] \n",
      "\u001b[1;32m    314 \u001b[0m            for t in self]) ).astype(int)\n",
      "\u001b[1;32m    315 \u001b[0m        \u001b[0;31m# trial details\u001b[0m\u001b[0;34m\u001b[0m\u001b[0;34m\u001b[0m\u001b[0m\n",
      "\n",
      "ipdb> e.event_durations = A( np.sum([[eb[1] - eb[0] for eb in t.event_bounds] for t in self]) ).astype(int) \n",
      "ipdb> A( np.sum([[eb[1] - eb[0] for eb in t.event_bounds] for t in self]) ).astype(int) \n",
      "array(450)\n",
      "ipdb> t\n",
      "*** NameError: name 't' is not defined\n",
      "ipdb> t.event_types\n",
      "*** NameError: name 't' is not defined\n",
      "ipdb> self.t.event.types\n",
      "*** AttributeError: 'RawDataSim' object has no attribute 't'\n"
     ]
    }
   ],
   "source": [
    "\n",
    "a.filter_units( a.all_event_data.Y__tn.mean( axis=0 ) > 0.1 ) "
   ]
  },
  {
   "cell_type": "code",
   "execution_count": null,
   "metadata": {
    "collapsed": false
   },
   "outputs": [],
   "source": [
    "\n"
   ]
  },
  {
   "cell_type": "code",
   "execution_count": null,
   "metadata": {
    "collapsed": false
   },
   "outputs": [],
   "source": [
    " t = times = {'suarrayid':[1,2],'sulist': [np.linspace(1,l,l), np.linspace(1,l,l)],'trialtimes':[TT(),TT(),TT()]}"
   ]
  },
  {
   "cell_type": "code",
   "execution_count": 48,
   "metadata": {
    "collapsed": false
   },
   "outputs": [],
   "source": []
  },
  {
   "cell_type": "code",
   "execution_count": null,
   "metadata": {
    "collapsed": false
   },
   "outputs": [],
   "source": []
  },
  {
   "cell_type": "code",
   "execution_count": null,
   "metadata": {
    "collapsed": false
   },
   "outputs": [],
   "source": []
  },
  {
   "cell_type": "code",
   "execution_count": null,
   "metadata": {
    "collapsed": false
   },
   "outputs": [],
   "source": [
    "udiag(x)"
   ]
  },
  {
   "cell_type": "code",
   "execution_count": null,
   "metadata": {
    "collapsed": false
   },
   "outputs": [],
   "source": [
    "C__sn = m.C__sn.T\n",
    "G__tn = np.random.random_integers(1,2,[1000,2])\n",
    "M = Naive(v,G__tn = G__tn,C__sn = C__sn)\n",
    "    \n",
    "    "
   ]
  },
  {
   "cell_type": "code",
   "execution_count": null,
   "metadata": {
    "collapsed": false
   },
   "outputs": [],
   "source": [
    "M.plot_cache_graph(filename = 'plotit.png')\n",
    "Image(\"plotit.png\")"
   ]
  },
  {
   "cell_type": "code",
   "execution_count": null,
   "metadata": {
    "collapsed": false
   },
   "outputs": [],
   "source": [
    "x = np.array([1,2,3])"
   ]
  },
  {
   "cell_type": "code",
   "execution_count": null,
   "metadata": {
    "collapsed": false
   },
   "outputs": [],
   "source": [
    "x1 = np.array([x,na])\n",
    "x2 = np.array([x,na,na])"
   ]
  },
  {
   "cell_type": "code",
   "execution_count": null,
   "metadata": {
    "collapsed": false
   },
   "outputs": [],
   "source": [
    "print(x1.shape)\n",
    "print(x.shape)\n",
    "print(x2.shape)"
   ]
  },
  {
   "cell_type": "code",
   "execution_count": null,
   "metadata": {
    "collapsed": false
   },
   "outputs": [],
   "source": []
  },
  {
   "cell_type": "raw",
   "metadata": {},
   "source": []
  },
  {
   "cell_type": "code",
   "execution_count": null,
   "metadata": {
    "collapsed": false
   },
   "outputs": [],
   "source": [
    "from mop import *\n",
    "from autoreload import *\n",
    "from autocr import *\n",
    "import numpy as np"
   ]
  },
  {
   "cell_type": "code",
   "execution_count": null,
   "metadata": {
    "collapsed": false
   },
   "outputs": [],
   "source": [
    "X = np.random.normal(0,1,[4,100])\n",
    "y = np.mean(X,axis=1)\n",
    "a = Data(X,y)"
   ]
  },
  {
   "cell_type": "code",
   "execution_count": null,
   "metadata": {
    "collapsed": false
   },
   "outputs": [],
   "source": [
    "S = UnitSolver(a)"
   ]
  },
  {
   "cell_type": "code",
   "execution_count": null,
   "metadata": {
    "collapsed": false
   },
   "outputs": [],
   "source": [
    "a.create_postrior()"
   ]
  },
  {
   "cell_type": "code",
   "execution_count": null,
   "metadata": {
    "collapsed": false
   },
   "outputs": [],
   "source": [
    "plt.figure(figsize=(50,30))\n",
    "plt.imshow(v.Y__tn.T)\n",
    "#plt.plot(v.S__ts,'r')\n",
    "#plt.plot(np.mean(v.D,1),'b')\n",
    "#plt.plot(v.M,'g')\n",
    "plt.plot(v.a,'k')\n"
   ]
  },
  {
   "cell_type": "code",
   "execution_count": null,
   "metadata": {
    "collapsed": true
   },
   "outputs": [],
   "source": []
  },
  {
   "cell_type": "code",
   "execution_count": null,
   "metadata": {
    "collapsed": false
   },
   "outputs": [],
   "source": [
    "# %load A2_fit_CG\n",
    "# modules\n",
    "from helpers import *\n",
    "import attention\n",
    "reload(attention)\n",
    "from attention import *\n",
    "import mop\n",
    "\n",
    "# core data\n",
    "#if not locals().has_key('event_data'):\n",
    "#    event_data = cPickle.load(open('data/event_data.pickle'))\n",
    "#\n",
    "#event_data.load_attribute('C')\n",
    "\n",
    "\"\"\"\n",
    "=======\n",
    "classes\n",
    "=======\n",
    "\n",
    "\n",
    "class PopData( pop.PopData ):                                                                            \n",
    "    \n",
    "    def __init__( self, X, Y ):\n",
    "        super( PopData, self ).__init__( X, Y, add_constant=False )\n",
    "\n",
    "        \n",
    "class PopSolver( pop.Factorial_k, pop.Lowpass_s, pop.ML_w, pop.PopSimple ):\n",
    "    \n",
    "    _k_solver_class = MopSolver\n",
    "\n",
    "    @property\n",
    "    def _max_len_h_star( self ):\n",
    "        return min([ 1000, self.data.T ])\n",
    "    \n",
    "    @cached\n",
    "    def training_idxs( data ):\n",
    "        return np.isfinite( data.Y ).all( axis=1 )\n",
    "    \n",
    "    @cached\n",
    "    def has_testing_regions():\n",
    "        return False\n",
    "    \n",
    "    @cached\n",
    "    def T_training( training_idxs ):\n",
    "        return training_idxs.sum()\n",
    "    \n",
    "    @cached\n",
    "    def T_testing():\n",
    "        return 0\n",
    "    \n",
    "    def _slice_by_testing( self, sig ):\n",
    "        return A([])\n",
    "    \n",
    "    def _slice_by_training( self, sig ):\n",
    "        return sig[ self.training_idxs, ... ]\n",
    "    \n",
    "    def _zero_during_testing( self, sig ):\n",
    "        sig = sig.copy()\n",
    "        sig[ ~self.training_idxs, ... ] = 0\n",
    "        return sig\n",
    "\n",
    "\"\"\"\n",
    "\"\"\"\n",
    "==========\n",
    "how to fit\n",
    "==========\n",
    "\"\"\"\n",
    "\n",
    "def fit_CG( d, check=False ):\n",
    "    \"\"\" Fit S_global__tn on top of C__sn \"\"\"\n",
    "    # get cell\n",
    "    #d = event_data[ d_idx ]\n",
    "    # is it done\n",
    "    attr = 'CG'\n",
    "    #if check:\n",
    "    #    return d.can_load_attribute( attr )\n",
    "    # if d.can_load_attribute( attr ):\n",
    "    #     print '- already done'\n",
    "    #    return\n",
    "    # group together responses to a single trial\n",
    "    d2 = d#.group_by_trial\n",
    "    # trial times\n",
    "    t_ms = d2.event_t_msec\n",
    "    min_dt = float( np.diff( t_ms ).min() )\n",
    "    t_idx = np.floor( (t_ms - t_ms.min()) / min_dt ).astype(int)\n",
    "    # how long is the signal\n",
    "    T0 = T = t_idx.max() + 1\n",
    "    T2 = int( pow(2, np.ceil(np.log2(T/2.))) ) * 2\n",
    "    T3 = int( pow(2, np.ceil(np.log2(T/3.))) ) * 3\n",
    "    T5 = int( pow(2, np.ceil(np.log2(T/5.))) ) * 5\n",
    "    T = min(T2, T3, T5)\n",
    "    # assemble spike counts\n",
    "    Y__tn = d2.mean_counts_per_event.T\n",
    "    # padded spike counts\n",
    "    Y_padded__tn = np.zeros((T, d.N_units)) * np.nan\n",
    "    Y_padded__tn[ t_idx, : ] = Y__tn\n",
    "    Y__tn = Y_padded__tn\n",
    "    # stimulus matrix\n",
    "    X__ti = np.zeros((T, 2))\n",
    "    X__ti[ t_idx[ d2.is_trial_cue_L ], 0 ] = 1\n",
    "    X__ti[ t_idx[ d2.is_trial_cue_R ], 1 ] = 1\n",
    "    \n",
    "    \n",
    "    # regression: initial conditions\n",
    "    K__i = d.C.C__sn.T.flatten()\n",
    "    K__i[ ~np.isfinite(K__i) ] = -3\n",
    "    # initial weights\n",
    "    w__n = np.ones( d.N_units )\n",
    "    # remove any dodgy cells\n",
    "    tok__n = (d.Y__tn.mean(axis=0) > 0.01)\n",
    "    if ~tok__n.all():\n",
    "        Y__tn = Y__tn[ :, tok__n ]\n",
    "        w__n = w__n[ tok__n ]\n",
    "        K__i = d.C.C__sn[ :, tok__n ].T.flatten()\n",
    "        K__i[ ~np.isfinite(K__i) ] = -3\n",
    "    # construct model data\n",
    "    model_data = MopData( X__ti, Y__tn )\n",
    "    # build model\n",
    "    initial_conditions = { 'k': K__i, 'theta_s':[-7, 10], 's':np.zeros(T), 'w':w__n }\n",
    "    model = PopSolver( model_data, initial_conditions=initial_conditions, rank=1 )\n",
    "    model._grid_search_theta_s_parameters['bounds'] = [[-9, -4], [-40, 20]]\n",
    "    model._bounds_s = [(-9, -4), (-60, 40)]\n",
    "    # re-estimate cue conditions\n",
    "    model.calc_posterior_k()\n",
    "    for ks in model.k_solvers:\n",
    "        if np.abs(np.diff(ks.k_vec))[0] > 1:\n",
    "            ks.k_vec = np.max(ks.k_vec) * A([1, 1])\n",
    "            ks.calc_posterior_k()\n",
    "    model.calc_posterior_k()\n",
    "    # solve for slow drift\n",
    "    model.solve( verbose=2 )\n",
    "    clear_output()\n",
    "    # extract slow global signal\n",
    "    SG__tn = model.posterior_sw.H__sw[ model.training_idxs, : ]\n",
    "    # make the right shape\n",
    "    trials, idxs, inv_idxs = np.unique( d.trial_idxs, return_inverse=True, return_index=True )\n",
    "    SG__tn = SG__tn[ inv_idxs, : ]\n",
    "    # check that it is not degenerate\n",
    "    w__n = np.abs( svd( SG__tn - SG__tn.mean(axis=0)[na, :], full_matrices=False )[2][0, :].T )\n",
    "    N_sig = (w__n > (w__n.max() / 10)).sum()\n",
    "    if N_sig < 5:\n",
    "        SG__tn *= 0\n",
    "        print '**** DEGENERATE ****'\n",
    "        tracer()\n",
    "    if ~tok__n.all():\n",
    "        S = SG__tn\n",
    "        SG__tn = np.zeros( (S.shape[0], len(tok__n)) )\n",
    "        SG__tn[ :, tok__n ] = S\n",
    "    # done\n",
    "    if d.can_load_attribute( attr ):\n",
    "        print '- already done'\n",
    "        return\n",
    "    # save\n",
    "    d.CG = Bunch(d.C.copy())\n",
    "    d.CG['SG__tn'] = SG__tn\n",
    "    d.CG = BaseModel( d.CG )\n",
    "    d.save_attribute(attr)"
   ]
  },
  {
   "cell_type": "code",
   "execution_count": null,
   "metadata": {
    "collapsed": false
   },
   "outputs": [],
   "source": [
    "fit_CG(v)"
   ]
  },
  {
   "cell_type": "code",
   "execution_count": null,
   "metadata": {
    "collapsed": false
   },
   "outputs": [],
   "source": []
  },
  {
   "cell_type": "code",
   "execution_count": null,
   "metadata": {
    "collapsed": false,
    "scrolled": true
   },
   "outputs": [],
   "source": [
    "#Fit fro drift and cue\n",
    "# require gain  and cue\n",
    "#self.G__tn = exp( d.H__tn ) #from time_course\n",
    "C__sn = m.C__sn\n",
    "G__tn = np.random.random_integers(1,2,[10,1])\n",
    "m = Naive(v,tau=2, rank=1, eps_per_obs=1e-5,\n",
    "          max_admm_iterations=100, max_newton_steps=10, \n",
    "          nonlinearity='exp',nonlinearity_h='exp',\n",
    "          G__tn=G__tn ,C__sn= C__sn, verbose= True)"
   ]
  },
  {
   "cell_type": "code",
   "execution_count": null,
   "metadata": {
    "collapsed": false
   },
   "outputs": [],
   "source": [
    "np.array([v.is_trial_cue_L.mean(),v.is_trial_cue_R.mean()])"
   ]
  },
  {
   "cell_type": "code",
   "execution_count": null,
   "metadata": {
    "collapsed": false
   },
   "outputs": [],
   "source": [
    " np.array([v.is_trial_cue_L.mean(), v.is_trial_cue_R.mean()])"
   ]
  },
  {
   "cell_type": "code",
   "execution_count": null,
   "metadata": {
    "collapsed": false
   },
   "outputs": [],
   "source": [
    "m.LL_per_obs"
   ]
  },
  {
   "cell_type": "code",
   "execution_count": null,
   "metadata": {
    "collapsed": false,
    "scrolled": true
   },
   "outputs": [],
   "source": [
    "# %load A4_simulation.py\n",
    "import attention\n",
    "reload(attention)\n",
    "from attention import *\n",
    "\n",
    "#target_filename = 'data/sim_event_data.v3.pickle'\n",
    "true_ranks = [1, 2]\n",
    "N_samples = 2\n",
    "\n",
    "#event_data = cPickle.load(open('data/event_data.pickle'))\n",
    "\n",
    "\n",
    "### SIMULATE\n",
    "\n",
    "\n",
    "# get cell\n",
    "#d = event_data[13].__copy__()\n",
    "N, T = 2, 100\n",
    "\n",
    "#if os.path.exists(target_filename):\n",
    "#    print 'loading...'\n",
    "#    sim_event_data = cPickle.load(open(target_filename))\n",
    "\n",
    "#else:\n",
    " #   print 'calculating...'\n",
    "    # source model\n",
    "    #d.load_attribute(['CGL', 'CGLM_2'])\n",
    "    #m = Model( d.CGLM_2 )\n",
    "\n",
    "    # parameters\n",
    "gain = 0.137\n",
    "\n",
    "    # new cells\n",
    "dsims = []\n",
    "for rank in progress.numbers( true_ranks ):\n",
    "    for sample_idx in progress.dots( range(N_samples), 'rank = %d' % rank ):\n",
    "        # sample W - weigths of the modulator\n",
    "        W__in = np.random.normal(0, 1, size=(rank, N) )\n",
    "        # sample S - stimuli\n",
    "        S__ti = np.random.normal(0,1, size=(T, rank) )\n",
    "        # create Omega\n",
    "        Omega__tn = S__ti.dot(W__in)\n",
    "        # reweight\n",
    "        Omega__tn -= Omega__tn.mean()\n",
    "        # multiply by gain\n",
    "        Omega__tn *= gain / Omega__tn.std()\n",
    "        # mean rate\n",
    "        Mu__tn = 1* np.exp( Omega__tn + 0.1 )\n",
    "        # sample\n",
    "        Y__tn = np.random.poisson( Mu__tn )\n",
    "        # replace\n",
    "        #this_d = d#.__copy__()\n",
    "        #this_d.Y__tn = Y__tn.T\n",
    "        #this_d.prefix = 'sim_v3_rank_%d_sample_%02d' % (rank, sample_idx)\n",
    "        # remove keys\n",
    "        #to_remove = ['trial_end_code', 'prev_trial_end_code', 'event_idxs_within_trial', 'N_events_within_trial', 'trial_idxs_within_block', 'is_trial_catch', 'prev_prev_trial_target_R', 'target_orientation_change', 'prev_prev_trial_catch', 'prev_prev_trial_end_code', 'prev_trial_catch', 'prev_trial_target_R', 'trial_block_idxs', 'trial_idxs']\n",
    "        #for k in to_remove:\n",
    "        # delattr( this_d, k )\n",
    "        # save\n",
    "        #dsims.append( this_d )\n",
    "\n",
    "#sim_event_data = EventDataList( dsims )\n",
    "\n",
    "# save\n",
    "#cPickle.dump( sim_event_data, open(target_filename, 'w'), 2 )\n",
    "\n",
    "\n",
    "### COPY OVER PARAMETERS\n",
    "\n",
    "\n",
    "\n"
   ]
  },
  {
   "cell_type": "code",
   "execution_count": null,
   "metadata": {
    "collapsed": false
   },
   "outputs": [],
   "source": [
    "plt.plot(Mu__tn)"
   ]
  },
  {
   "cell_type": "code",
   "execution_count": null,
   "metadata": {
    "collapsed": false
   },
   "outputs": [],
   "source": [
    "sim_event_data[1].Y__tn[0].shape"
   ]
  },
  {
   "cell_type": "code",
   "execution_count": null,
   "metadata": {
    "collapsed": false
   },
   "outputs": [],
   "source": [
    "plt.figure(0)\n",
    "plt.plot(sim_event_data[3].Y__tn.T)\n",
    "plt.plot(sim_event_data[3].S__ts)\n"
   ]
  },
  {
   "cell_type": "code",
   "execution_count": null,
   "metadata": {
    "collapsed": false,
    "scrolled": true
   },
   "outputs": [],
   "source": [
    "# %load A1_fit_C.py\n",
    "# modules\n",
    "import attention\n",
    "reload(attention)\n",
    "from attention import *\n",
    "#import pop\n",
    "\n",
    "\n",
    "\n",
    "# fit CueAlone model\n",
    "i=0\n",
    "for d in progress.numbers( sim_event_data ):\n",
    "    #print(d.C.C__sn)\n",
    "    m = models.CueAlone( d, verbose=False )\n",
    "    print(m.C__sn)\n",
    "    #sim_event_data[i].C = BaseModel({'C__sn':m.C__sn})\n",
    "    #i+=1\n",
    "    #d.save_attribute('C')\n"
   ]
  },
  {
   "cell_type": "code",
   "execution_count": null,
   "metadata": {
    "collapsed": false
   },
   "outputs": [],
   "source": [
    "sim_event_data[0].__dict__.keys() \n",
    "sim_event_data[50].C"
   ]
  },
  {
   "cell_type": "code",
   "execution_count": null,
   "metadata": {
    "collapsed": true
   },
   "outputs": [],
   "source": [
    "# %load A1_fit_C.py\n",
    "# modules\n",
    "import attention\n",
    "reload(attention)\n",
    "from attention import *\n",
    "import pop\n",
    "\n",
    "# core data\n",
    "if not locals().has_key('event_data'):\n",
    "    event_data = cPickle.load(open('data/event_data.pickle'))\n",
    "\n",
    "# fit CueAlone model\n",
    "for d in progress.numbers( event_data ):\n",
    "    m = models.CueAlone( d, verbose=False )\n",
    "    d.C = BaseModel({'C__sn':m.C__sn})\n",
    "    d.save_attribute('C')\n"
   ]
  },
  {
   "cell_type": "code",
   "execution_count": null,
   "metadata": {
    "collapsed": true
   },
   "outputs": [],
   "source": [
    "# %load A1_fit_C.py\n",
    "# modules\n",
    "import attention\n",
    "reload(attention)\n",
    "from attention import *\n",
    "import mop\n",
    "import numpy as np"
   ]
  },
  {
   "cell_type": "code",
   "execution_count": null,
   "metadata": {
    "collapsed": false,
    "scrolled": true
   },
   "outputs": [],
   "source": [
    "for d in progress.numbers(v):\n",
    "    print(d)\n",
    "    m = models.CueAlone( d, verbose=True )"
   ]
  },
  {
   "cell_type": "code",
   "execution_count": null,
   "metadata": {
    "collapsed": false
   },
   "outputs": [],
   "source": [
    "m"
   ]
  },
  {
   "cell_type": "code",
   "execution_count": null,
   "metadata": {
    "collapsed": false,
    "scrolled": true
   },
   "outputs": [],
   "source": [
    "(v[1].Y__tn.T.dot(v[1].S__ts)/v[1].S__ts(axis=0)[None,:]).T"
   ]
  },
  {
   "cell_type": "code",
   "execution_count": null,
   "metadata": {
    "collapsed": false
   },
   "outputs": [],
   "source": [
    "A = np.array\n",
    "k = A([[1,1,1],[1,1,1]]).T.astype(float)"
   ]
  },
  {
   "cell_type": "code",
   "execution_count": null,
   "metadata": {
    "collapsed": false
   },
   "outputs": [],
   "source": [
    "print(k.sum(axis=0))"
   ]
  },
  {
   "cell_type": "code",
   "execution_count": null,
   "metadata": {
    "collapsed": false
   },
   "outputs": [],
   "source": []
  },
  {
   "cell_type": "code",
   "execution_count": null,
   "metadata": {
    "collapsed": true
   },
   "outputs": [],
   "source": []
  },
  {
   "cell_type": "code",
   "execution_count": null,
   "metadata": {
    "collapsed": false
   },
   "outputs": [],
   "source": []
  },
  {
   "cell_type": "code",
   "execution_count": null,
   "metadata": {
    "collapsed": false
   },
   "outputs": [],
   "source": [
    "v[1].N_events"
   ]
  },
  {
   "cell_type": "code",
   "execution_count": null,
   "metadata": {
    "collapsed": false
   },
   "outputs": [],
   "source": [
    "a =EventData(1,3)"
   ]
  },
  {
   "cell_type": "code",
   "execution_count": null,
   "metadata": {
    "collapsed": false
   },
   "outputs": [],
   "source": [
    "v[1].Y__tn"
   ]
  },
  {
   "cell_type": "code",
   "execution_count": null,
   "metadata": {
    "collapsed": false
   },
   "outputs": [],
   "source": [
    "for each in c: print(each)"
   ]
  },
  {
   "cell_type": "code",
   "execution_count": null,
   "metadata": {
    "collapsed": true
   },
   "outputs": [],
   "source": []
  },
  {
   "cell_type": "code",
   "execution_count": null,
   "metadata": {
    "collapsed": false
   },
   "outputs": [],
   "source": [
    "n=0\n",
    "S__ts = v[1].S__ts\n",
    "Nu__sn = ( v[1].Y__tn.T.dot(v[1].S__ts) / v[1].S__ts.sum(axis=0)[None, :] ).T\n",
    "C__sn = log( Nu__sn )\n",
    "z_vec = C__sn[:, n]\n",
    "S=2\n",
    "a__s = z_vec[-S:]\n",
    "nu__t = exp( S__ts.dot(a__s) )\n",
    "\n"
   ]
  },
  {
   "cell_type": "code",
   "execution_count": null,
   "metadata": {
    "collapsed": false
   },
   "outputs": [],
   "source": [
    "C__sn\n"
   ]
  },
  {
   "cell_type": "code",
   "execution_count": null,
   "metadata": {
    "collapsed": false
   },
   "outputs": [],
   "source": [
    "v[1].Y__tn.T.dot(v[1].S__ts) "
   ]
  },
  {
   "cell_type": "code",
   "execution_count": null,
   "metadata": {
    "collapsed": false
   },
   "outputs": [],
   "source": []
  },
  {
   "cell_type": "code",
   "execution_count": null,
   "metadata": {
    "collapsed": false
   },
   "outputs": [],
   "source": [
    "d"
   ]
  },
  {
   "cell_type": "code",
   "execution_count": null,
   "metadata": {
    "collapsed": false
   },
   "outputs": [],
   "source": [
    "import numpy as np"
   ]
  },
  {
   "cell_type": "code",
   "execution_count": null,
   "metadata": {
    "collapsed": false
   },
   "outputs": [],
   "source": [
    "A = np.array"
   ]
  }
 ],
 "metadata": {
  "anaconda-cloud": {},
  "kernelspec": {
   "display_name": "Python 2",
   "language": "python",
   "name": "python2"
  },
  "language_info": {
   "codemirror_mode": {
    "name": "ipython",
    "version": 2
   },
   "file_extension": ".py",
   "mimetype": "text/x-python",
   "name": "python",
   "nbconvert_exporter": "python",
   "pygments_lexer": "ipython2",
   "version": "2.7.13"
  }
 },
 "nbformat": 4,
 "nbformat_minor": 0
}
